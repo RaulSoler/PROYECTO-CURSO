{
 "cells": [
  {
   "cell_type": "code",
   "execution_count": 1,
   "metadata": {},
   "outputs": [],
   "source": [
    "import pandas as pd\n",
    "from unidecode import unidecode\n",
    "from sklearn.preprocessing import LabelEncoder\n",
    "\n",
    "import sys\n",
    "import os\n",
    "\n",
    "ruta_carpeta = '/Users/raul_/Desktop/PBREAK/Funciones/'\n",
    "sys.path.append(ruta_carpeta) \n",
    "from Funciones import encuentros_entre_equipos\n",
    "from Funciones import filter_columns_by_correlation\n",
    "from Funciones import remove_accents\n",
    "from Funciones import determinar_resultado\n",
    "from pandas.plotting import scatter_matrix\n",
    "from Funciones import *\n",
    "import matplotlib.pyplot as plt\n",
    "\n",
    "\n"
   ]
  },
  {
   "cell_type": "markdown",
   "metadata": {},
   "source": [
    "#### CARGA DEL CSV PARA CONVERTIRLO EN DATAFRAME"
   ]
  },
  {
   "cell_type": "code",
   "execution_count": 2,
   "metadata": {},
   "outputs": [],
   "source": [
    "resultados = pd.read_csv('Temporada2324.csv', encoding='latin1')"
   ]
  },
  {
   "cell_type": "code",
   "execution_count": 3,
   "metadata": {},
   "outputs": [],
   "source": [
    "equipos_duplicados = resultados.loc[resultados[\"Unnamed: 3\"] == \"@\"]\n",
    "resultados = resultados.drop(equipos_duplicados.index)"
   ]
  },
  {
   "cell_type": "code",
   "execution_count": 4,
   "metadata": {},
   "outputs": [],
   "source": [
    "resultados.drop(columns=[\"Unnamed: 3\",\"Poss\",\"G-PK\",\"PK\",\"PKatt\",\"PKm\",\"Match Report\",\"Rk\"], inplace=True)"
   ]
  },
  {
   "cell_type": "code",
   "execution_count": 5,
   "metadata": {},
   "outputs": [],
   "source": [
    "resultados.reset_index(drop=True, inplace=True)"
   ]
  },
  {
   "cell_type": "code",
   "execution_count": 6,
   "metadata": {},
   "outputs": [],
   "source": [
    "resultados.Date = pd.to_datetime(resultados.Date)"
   ]
  },
  {
   "cell_type": "code",
   "execution_count": 7,
   "metadata": {},
   "outputs": [],
   "source": [
    "resultados = resultados.map(remove_accents)"
   ]
  },
  {
   "cell_type": "code",
   "execution_count": 8,
   "metadata": {},
   "outputs": [],
   "source": [
    "resultados.drop_duplicates(subset=resultados.columns, inplace=True)\n"
   ]
  },
  {
   "cell_type": "code",
   "execution_count": 9,
   "metadata": {},
   "outputs": [],
   "source": [
    "resultados.rename(columns={\"Team\" : \"Local\",\n",
    "                           \"Opp\":\"Visitante\",\n",
    "                           \"Comp\" : \"Competicion\",\n",
    "                           \"GF\" : \"Goles_Local\",\n",
    "                           \"GA\" : \"Goles_Visitantes\",\n",
    "                           \"GD\" : \"Diferencia_Goles\"\n",
    "                           }, inplace=True)"
   ]
  },
  {
   "cell_type": "code",
   "execution_count": 10,
   "metadata": {},
   "outputs": [],
   "source": [
    "# Transformar los campos a tipo entero\n",
    "resultados['Goles_Local'] = resultados['Goles_Local'].astype(int)\n",
    "resultados['Goles_Visitantes'] = resultados['Goles_Visitantes'].astype(int)\n",
    "resultados['Diferencia_Goles'] = resultados['Diferencia_Goles'].astype(int)"
   ]
  },
  {
   "cell_type": "code",
   "execution_count": 11,
   "metadata": {},
   "outputs": [],
   "source": [
    "resultados[\"Resultado\"] = resultados.apply(determinar_resultado, axis=1)\n",
    "resultados.drop(columns=[\"Result\",\"Diferencia_Goles\"], inplace=True)"
   ]
  },
  {
   "cell_type": "code",
   "execution_count": 12,
   "metadata": {},
   "outputs": [],
   "source": [
    "orden_columnas = [\"Date\", \"Local\", \"Goles_Local\",\"Visitante\", \"Goles_Visitantes\",\"Resultado\"]"
   ]
  },
  {
   "cell_type": "code",
   "execution_count": 13,
   "metadata": {},
   "outputs": [],
   "source": [
    "resultados = resultados[orden_columnas]"
   ]
  },
  {
   "cell_type": "code",
   "execution_count": 14,
   "metadata": {},
   "outputs": [],
   "source": [
    "\n",
    "resultados['Date'] = pd.to_datetime(resultados['Date'])\n",
    "\n",
    "# Creeamos Temporada como columna\n",
    "resultados['Temporada'] = resultados['Date'].apply(lambda x: x.year if x.month >= 8 else x.year - 1)\n",
    "\n",
    "# Ordenamos por fecha\n",
    "resultados = resultados.sort_values(by='Date')\n",
    "\n",
    "# Creamos Jornada\n",
    "resultados['Jornada'] = resultados.groupby('Temporada').cumcount() // 10 + 1\n",
    "\n",
    "resultados.reset_index(drop=True, inplace=True)"
   ]
  },
  {
   "cell_type": "code",
   "execution_count": 15,
   "metadata": {},
   "outputs": [],
   "source": [
    "resultados[\"Numero_Goles_Total\"] = resultados.Goles_Local + resultados.Goles_Visitantes"
   ]
  },
  {
   "cell_type": "code",
   "execution_count": 16,
   "metadata": {},
   "outputs": [],
   "source": [
    "resultados[\"Puntos_Local\"] = 0\n",
    "resultados[\"Puntos_Visitantes\"] = 0"
   ]
  },
  {
   "cell_type": "code",
   "execution_count": 17,
   "metadata": {},
   "outputs": [],
   "source": [
    "\n",
    "for i, row in resultados.iterrows():\n",
    "    if row['Resultado'] == \"Local\":\n",
    "        resultados.at[i, 'Puntos_Local'] += 3\n",
    "    elif row['Resultado'] == \"Visitante\":\n",
    "        resultados.at[i, 'Puntos_Visitantes'] += 3\n",
    "    else:\n",
    "        resultados.at[i, 'Puntos_Local'] += 1\n",
    "        resultados.at[i, 'Puntos_Visitantes'] += 1"
   ]
  },
  {
   "cell_type": "code",
   "execution_count": 18,
   "metadata": {},
   "outputs": [],
   "source": [
    "\n",
    "# Supongamos que 'resultados' es tu DataFrame original\n",
    "# Crear DataFrames separados para los equipos locales y visitantes\n",
    "df_local = resultados[['Temporada', 'Jornada', 'Local', 'Puntos_Local']].rename(columns={'Local': 'Equipo', 'Puntos_Local': 'Puntos'})\n",
    "df_visitante = resultados[['Temporada', 'Jornada', 'Visitante', 'Puntos_Visitantes']].rename(columns={'Visitante': 'Equipo', 'Puntos_Visitantes': 'Puntos'})\n",
    "\n",
    "# Unir ambos DataFrames\n",
    "df_puntos = pd.concat([df_local, df_visitante])\n",
    "\n",
    "# Ordenar por temporada, equipo y jornada\n",
    "df_puntos = df_puntos.sort_values(by=['Temporada', 'Equipo', 'Jornada'])\n",
    "\n",
    "# Calcular la suma acumulada de puntos para cada equipo en cada temporada, excluyendo la jornada actual\n",
    "df_puntos['Puntos_Acumulados'] = df_puntos.groupby(['Temporada', 'Equipo'])['Puntos'].shift().fillna(0).groupby(df_puntos['Temporada']).cumsum()\n",
    "\n"
   ]
  },
  {
   "cell_type": "code",
   "execution_count": 19,
   "metadata": {},
   "outputs": [],
   "source": [
    "\n",
    "# Supongamos que 'resultados' es tu DataFrame original\n",
    "# Crear DataFrames separados para los equipos locales y visitantes\n",
    "df_local = resultados[['Temporada', 'Jornada', 'Local', 'Puntos_Local']].rename(columns={'Local': 'Equipo', 'Puntos_Local': 'Puntos'})\n",
    "df_visitante = resultados[['Temporada', 'Jornada', 'Visitante', 'Puntos_Visitantes']].rename(columns={'Visitante': 'Equipo', 'Puntos_Visitantes': 'Puntos'})\n",
    "\n",
    "# Unir ambos DataFrames\n",
    "df_puntos = pd.concat([df_local, df_visitante])\n",
    "\n",
    "# Ordenar por temporada, equipo y jornada\n",
    "df_puntos = df_puntos.sort_values(by=['Temporada', 'Equipo', 'Jornada'])\n",
    "\n",
    "# Calcular la suma acumulada de puntos para cada equipo en cada temporada, excluyendo la jornada actual\n",
    "df_puntos['Puntos_Acumulados'] = df_puntos.groupby(['Temporada', 'Equipo'])['Puntos'].shift().fillna(0).groupby([df_puntos['Temporada'], df_puntos['Equipo']]).cumsum()\n",
    "\n",
    "# Crear un DataFrame para los puntos acumulados de los equipos locales\n",
    "df_puntos_local = df_puntos.rename(columns={'Equipo': 'Local', 'Puntos_Acumulados': 'Puntos_Acumulados_Local'})\n",
    "\n",
    "# Combinar los puntos acumulados locales con el DataFrame original\n",
    "resultados = resultados.merge(df_puntos_local[['Temporada', 'Jornada', 'Local', 'Puntos_Acumulados_Local']],\n",
    "                              on=['Temporada', 'Jornada', 'Local'], how='left')\n",
    "\n",
    "# Crear un DataFrame para los puntos acumulados de los equipos visitantes\n",
    "df_puntos_visitante = df_puntos.rename(columns={'Equipo': 'Visitante', 'Puntos_Acumulados': 'Puntos_Acumulados_Visitantes'})\n",
    "\n",
    "# Combinar los puntos acumulados visitantes con el DataFrame original\n",
    "resultados = resultados.merge(df_puntos_visitante[['Temporada', 'Jornada', 'Visitante', 'Puntos_Acumulados_Visitantes']],\n",
    "                              on=['Temporada', 'Jornada', 'Visitante'], how='left')\n",
    "\n",
    "\n"
   ]
  },
  {
   "cell_type": "code",
   "execution_count": 20,
   "metadata": {},
   "outputs": [],
   "source": [
    "# Crear un DataFrame para almacenar las posiciones en la liga\n",
    "df_posiciones = pd.DataFrame()\n",
    "\n",
    "# Iterar sobre cada temporada\n",
    "for season in df_puntos['Temporada'].unique():\n",
    "    \n",
    "    df_season = df_puntos[df_puntos['Temporada'] == season]\n",
    "    \n",
    "    # Iterar sobre cada jornada\n",
    "    for jornada in df_season['Jornada'].unique():\n",
    "        \n",
    "        df_jornada = df_season[df_season['Jornada'] == jornada]\n",
    "        \n",
    "        df_jornada = df_jornada.sort_values(by='Puntos_Acumulados', ascending=False).reset_index(drop=True)\n",
    "        \n",
    "        df_jornada['Posicion'] = df_jornada.index + 1\n",
    "        \n",
    "        # Agregar al DataFrame de posiciones\n",
    "        df_posiciones = pd.concat([df_posiciones, df_jornada[['Temporada', 'Jornada', 'Equipo', 'Puntos_Acumulados', 'Posicion']]])\n",
    "\n"
   ]
  },
  {
   "cell_type": "code",
   "execution_count": 21,
   "metadata": {},
   "outputs": [],
   "source": [
    "# Eliminar duplicados en todo el conjunto de datos manteniendo una sola entrada por partido\n",
    "resultados = resultados.drop_duplicates(subset=['Date', 'Local', 'Visitante'])"
   ]
  },
  {
   "cell_type": "code",
   "execution_count": 22,
   "metadata": {},
   "outputs": [],
   "source": [
    "# Ahora vamos a combinar las posiciones calculadas con el DataFrame original\n",
    "# Primero, renombrar columnas en df_posiciones para facilitar el merge\n",
    "df_posiciones_local = df_posiciones.rename(columns={'Equipo': 'Local', 'Posicion': 'Posicion_Local'})\n",
    "df_posiciones_visitante = df_posiciones.rename(columns={'Equipo': 'Visitante', 'Posicion': 'Posicion_Visitante'})\n",
    "\n",
    "# Combinar las posiciones de los equipos locales con el DataFrame original\n",
    "resultados = resultados.merge(df_posiciones_local[['Temporada', 'Jornada', 'Local', 'Posicion_Local']],\n",
    "                                                             on=['Temporada', 'Jornada', 'Local'], how='left')\n",
    "\n",
    "# Combinar las posiciones de los equipos visitantes con el DataFrame original\n",
    "resultados = resultados.merge(df_posiciones_visitante[['Temporada', 'Jornada', 'Visitante', 'Posicion_Visitante']],\n",
    "                                                                on=['Temporada', 'Jornada', 'Visitante'], how='left')\n",
    "\n"
   ]
  },
  {
   "cell_type": "code",
   "execution_count": 23,
   "metadata": {},
   "outputs": [],
   "source": [
    "\n",
    "\n",
    "# Supongamos que 'resultados' es tu DataFrame original\n",
    "# Crear DataFrames separados para los equipos locales y visitantes\n",
    "df_local = resultados[['Temporada', 'Jornada', 'Local', 'Goles_Local']].rename(columns={'Local': 'Equipo', 'Goles_Local': 'Goles'})\n",
    "df_visitante = resultados[['Temporada', 'Jornada', 'Visitante', 'Goles_Visitantes']].rename(columns={'Visitante': 'Equipo', 'Goles_Visitantes': 'Goles'})\n",
    "\n",
    "# Unir ambos DataFrames\n",
    "df_goles = pd.concat([df_local, df_visitante])\n",
    "\n",
    "# Ordenar por temporada, equipo y jornada\n",
    "df_goles = df_goles.sort_values(by=['Temporada', 'Equipo', 'Jornada'])\n",
    "\n",
    "# Calcular la suma acumulada de goles para cada equipo en cada temporada, excluyendo la jornada actual\n",
    "df_goles['Goles_Acumulados'] = df_goles.groupby(['Temporada', 'Equipo'])['Goles'].shift().fillna(0).groupby([df_goles['Temporada'], df_goles['Equipo']]).cumsum()\n",
    "\n",
    "# Crear un DataFrame para los goles acumulados de los equipos locales\n",
    "df_goles_local = df_goles.rename(columns={'Equipo': 'Local', 'Goles_Acumulados': 'Goles_Acumulados_Local'})\n",
    "\n",
    "# Combinar los goles acumulados locales con el DataFrame original\n",
    "resultados = resultados.merge(df_goles_local[['Temporada', 'Jornada', 'Local', 'Goles_Acumulados_Local']],\n",
    "                              on=['Temporada', 'Jornada', 'Local'], how='left')\n",
    "\n",
    "# Crear un DataFrame para los goles acumulados de los equipos visitantes\n",
    "df_goles_visitante = df_goles.rename(columns={'Equipo': 'Visitante', 'Goles_Acumulados': 'Goles_Acumulados_Visitantes'})\n",
    "\n",
    "# Combinar los goles acumulados visitantes con el DataFrame original\n",
    "resultados = resultados.merge(df_goles_visitante[['Temporada', 'Jornada', 'Visitante', 'Goles_Acumulados_Visitantes']],\n",
    "                              on=['Temporada', 'Jornada', 'Visitante'], how='left')\n",
    "\n"
   ]
  },
  {
   "cell_type": "code",
   "execution_count": 24,
   "metadata": {},
   "outputs": [],
   "source": [
    "# Eliminar duplicados en todo el conjunto de datos manteniendo una sola entrada por partido\n",
    "resultados = resultados.drop_duplicates(subset=['Date', 'Local', 'Visitante'])"
   ]
  },
  {
   "cell_type": "code",
   "execution_count": 25,
   "metadata": {},
   "outputs": [],
   "source": [
    "resultados.drop(columns=[\"Puntos_Local\",\"Puntos_Visitantes\"], inplace=True)"
   ]
  },
  {
   "cell_type": "code",
   "execution_count": 26,
   "metadata": {},
   "outputs": [],
   "source": [
    "nuevo_orden = [\"Date\",\"Temporada\",\"Jornada\",\"Posicion_Local\",\"Puntos_Acumulados_Local\",\"Local\",\"Goles_Local\",\"Goles_Acumulados_Local\",\"Visitante\",\"Goles_Visitantes\",\"Goles_Acumulados_Visitantes\",\"Puntos_Acumulados_Visitantes\",\"Posicion_Visitante\",\"Resultado\",\"Numero_Goles_Total\"]"
   ]
  },
  {
   "cell_type": "code",
   "execution_count": 27,
   "metadata": {},
   "outputs": [],
   "source": [
    "resultados = resultados[resultados['Resultado'] != 'Empate']"
   ]
  },
  {
   "cell_type": "code",
   "execution_count": 28,
   "metadata": {},
   "outputs": [],
   "source": [
    "resultados = resultados[nuevo_orden]"
   ]
  },
  {
   "cell_type": "code",
   "execution_count": 29,
   "metadata": {},
   "outputs": [],
   "source": [
    "\n",
    "encoded = resultados.copy()\n",
    "\n",
    "\n",
    "label_encoder = LabelEncoder()\n",
    "categorical_columns = ['Date', 'Local', 'Visitante', 'Resultado']\n",
    "\n",
    "for column in categorical_columns:\n",
    "   encoded[column] = label_encoder.fit_transform(encoded[column])"
   ]
  },
  {
   "cell_type": "code",
   "execution_count": 30,
   "metadata": {},
   "outputs": [],
   "source": [
    "resultados[\"Ratio_Jornada_Local\"] = resultados.Puntos_Acumulados_Local / resultados.Jornada\n",
    "resultados[\"Ratio_Jornada_Visitante\"] = resultados.Puntos_Acumulados_Visitantes / resultados.Jornada"
   ]
  },
  {
   "cell_type": "code",
   "execution_count": 31,
   "metadata": {},
   "outputs": [],
   "source": [
    "resultados = clasificacion(resultados)"
   ]
  },
  {
   "cell_type": "code",
   "execution_count": 32,
   "metadata": {},
   "outputs": [],
   "source": [
    "resultados.drop_duplicates(subset=resultados.columns, inplace=True)\n"
   ]
  },
  {
   "cell_type": "code",
   "execution_count": 33,
   "metadata": {},
   "outputs": [],
   "source": [
    "resultados.drop_duplicates(subset=resultados.columns, inplace=True)"
   ]
  },
  {
   "cell_type": "code",
   "execution_count": 34,
   "metadata": {},
   "outputs": [],
   "source": [
    "# Crear columnas para el cálculo de forma\n",
    "resultados['Resultado_Local'] = resultados.apply(lambda x: calcular_resultado(x, x['Local']), axis=1)  #Generamos dos columnas nuevas para almacenar el resultado local y el visitante.\n",
    "resultados['Resultado_Visitante'] = resultados.apply(lambda x: calcular_resultado(x, x['Visitante']), axis=1)\n",
    "\n",
    "resultados['Racha_Local'] = resultados.apply(lambda x: actualizar_forma(forma_local, x['Local'], x['Resultado_Local']), axis=1)\n",
    "resultados['Racha_Visitante'] = resultados.apply(lambda x: actualizar_forma(forma_visitante, x['Visitante'], x['Resultado_Visitante']), axis=1)"
   ]
  },
  {
   "cell_type": "code",
   "execution_count": 35,
   "metadata": {},
   "outputs": [],
   "source": [
    "\n",
    "resultados['Racha_Puntos_Local'] = resultados['Racha_Local'].apply(clasificador_rendimiento_forma)\n",
    "resultados['Racha_Puntos_Visitante'] = resultados['Racha_Visitante'].apply(clasificador_rendimiento_forma)"
   ]
  },
  {
   "cell_type": "code",
   "execution_count": 36,
   "metadata": {},
   "outputs": [],
   "source": [
    "# Eliminar duplicados en todo el conjunto de datos manteniendo una sola entrada por partido\n",
    "resultados = resultados.drop_duplicates(subset=['Date', 'Local', 'Visitante'])"
   ]
  },
  {
   "cell_type": "code",
   "execution_count": 37,
   "metadata": {},
   "outputs": [],
   "source": [
    "resultados.reset_index(drop=True, inplace=True)\n"
   ]
  },
  {
   "cell_type": "code",
   "execution_count": 38,
   "metadata": {},
   "outputs": [],
   "source": [
    "\n",
    "# Crear un identificador único para cada enfrentamiento\n",
    "resultados['Match_ID'] = resultados.apply(lambda x: '_'.join(sorted([x['Local'], x['Visitante']])), axis=1)\n",
    "\n",
    "# Ordenar el dataframe por fecha para mantener el orden cronológico\n",
    "df = resultados.sort_values(by='Date')\n",
    "\n",
    "# Crear un dataframe para almacenar los resultados\n",
    "result_df = pd.DataFrame()\n",
    "\n",
    "# Usar groupby para agrupar por el identificador de enfrentamiento\n",
    "grouped = df.groupby('Match_ID')\n",
    "\n",
    "# Procesar cada grupo\n",
    "for match_id, group in grouped:\n",
    "    group = group.sort_values(by='Date')\n",
    "    group['Cumulative_Goles_Local'] = group['Goles_Local'].cumsum().shift(1)\n",
    "    group['Cumulative_Goles_Visitante'] = group['Goles_Visitantes'].cumsum().shift(1)\n",
    "    group['Partidos_Jugados'] = range(1, len(group) + 1)\n",
    "    group['Cumulative_Goles_Total'] = group['Cumulative_Goles_Local'] + group['Cumulative_Goles_Visitante']\n",
    "    group['Media_Goles'] = group['Cumulative_Goles_Total'] / (group['Partidos_Jugados'] - 1)\n",
    "    result_df = pd.concat([result_df, group])\n",
    "\n",
    "# Limpiar las columnas temporales\n",
    "result_df = result_df[['Date', 'Temporada', 'Local', 'Visitante', 'Media_Goles']]\n",
    "\n",
    "\n",
    "\n"
   ]
  },
  {
   "cell_type": "code",
   "execution_count": 39,
   "metadata": {},
   "outputs": [],
   "source": [
    "# Sustituir NaN por 0 en la columna 'Media_Goles'\n",
    "result_df['Media_Goles'] = result_df['Media_Goles'].fillna(0)"
   ]
  },
  {
   "cell_type": "code",
   "execution_count": 40,
   "metadata": {},
   "outputs": [],
   "source": [
    "# Unir la columna 'Media_Goles' con el dataframe original 'df' basado en las columnas 'Date', 'Temporada', 'Local' y 'Visitante'\n",
    "resultados = resultados.merge(result_df[['Date', 'Temporada', 'Local', 'Visitante', 'Media_Goles']],\n",
    "                     on=['Date', 'Temporada', 'Local', 'Visitante'], \n",
    "                     how='left')\n"
   ]
  },
  {
   "cell_type": "code",
   "execution_count": 41,
   "metadata": {},
   "outputs": [],
   "source": [
    "# Crear un identificador único para cada enfrentamiento\n",
    "resultados['Match_ID'] = resultados.apply(lambda x: '_'.join(sorted([x['Local'], x['Visitante']])), axis=1)\n",
    "\n",
    "# Ordenar el dataframe por fecha para mantener el orden cronológico\n",
    "df = df.sort_values(by='Date')\n",
    "\n",
    "# Crear un dataframe para almacenar los resultados\n",
    "result_df_individual = pd.DataFrame()\n",
    "\n",
    "# Usar groupby para agrupar por el identificador de enfrentamiento\n",
    "grouped = df.groupby('Match_ID')\n",
    "\n",
    "# Procesar cada grupo\n",
    "for match_id, group in grouped:\n",
    "    group = group.sort_values(by='Date')\n",
    "    group['Cumulative_Goles_Local'] = group.apply(lambda x: group[(group['Local'] == x['Local']) & (group['Date'] < x['Date'])]['Goles_Local'].sum(), axis=1)\n",
    "    group['Cumulative_Goles_Visitante'] = group.apply(lambda x: group[(group['Visitante'] == x['Visitante']) & (group['Date'] < x['Date'])]['Goles_Visitantes'].sum(), axis=1)\n",
    "    group['Partidos_Jugados_Local'] = group.apply(lambda x: len(group[(group['Local'] == x['Local']) & (group['Date'] < x['Date'])]), axis=1)\n",
    "    group['Partidos_Jugados_Visitante'] = group.apply(lambda x: len(group[(group['Visitante'] == x['Visitante']) & (group['Date'] < x['Date'])]), axis=1)\n",
    "    group['Media_Goles_Local'] = group['Cumulative_Goles_Local'] / group['Partidos_Jugados_Local'].replace(0, 1)\n",
    "    group['Media_Goles_Visitante'] = group['Cumulative_Goles_Visitante'] / group['Partidos_Jugados_Visitante'].replace(0, 1)\n",
    "    result_df_individual = pd.concat([result_df_individual, group])\n",
    "\n",
    "# Limpiar las columnas temporales\n",
    "result_df_individual = result_df_individual[['Date', 'Temporada', 'Local', 'Visitante', 'Media_Goles_Local', 'Media_Goles_Visitante']]\n",
    "\n",
    "# Unir los resultados individuales con el dataframe original\n",
    "resultados = resultados.merge(result_df_individual[['Date', 'Temporada', 'Local', 'Visitante', 'Media_Goles_Local', 'Media_Goles_Visitante']],\n",
    "                                on=['Date', 'Temporada', 'Local', 'Visitante'], \n",
    "                                how='left')\n"
   ]
  },
  {
   "cell_type": "code",
   "execution_count": 42,
   "metadata": {},
   "outputs": [],
   "source": [
    "\n",
    "\n",
    "# Crear un diccionario para asignar puntos según la posición (20 puntos para el 1ro, 1 punto para el 20mo)\n",
    "points_dict = {i: 21-i for i in range(1, 21)}\n",
    "\n",
    "# Filtrar las posiciones finales de la jornada 38 para equipos locales\n",
    "df_positions_local = resultados[resultados['Jornada'] == 38][['Temporada', 'Local', 'Posicion_Local']].drop_duplicates()\n",
    "df_positions_local['Puntos'] = df_positions_local['Posicion_Local'].map(points_dict)\n",
    "df_positions_local.columns = ['Temporada', 'Equipo', 'Posicion', 'Puntos']\n",
    "\n",
    "# Filtrar las posiciones finales de la jornada 38 para equipos visitantes\n",
    "df_positions_visitante = resultados[resultados['Jornada'] == 38][['Temporada', 'Visitante', 'Posicion_Local']].drop_duplicates()\n",
    "df_positions_visitante.columns = ['Temporada', 'Equipo', 'Posicion']\n",
    "df_positions_visitante['Puntos'] = df_positions_visitante['Posicion'].map(points_dict)\n",
    "\n",
    "# Concatenar ambos dataframes\n",
    "df_positions = pd.concat([df_positions_local, df_positions_visitante])\n",
    "\n",
    "# Sumar los puntos por cada equipo a lo largo de todas las temporadas\n",
    "ranking_df = df_positions.groupby('Equipo')['Puntos'].sum().reset_index()\n",
    "ranking_df.columns = ['Equipo', 'Puntos_Totales']\n",
    "\n",
    "# Unir los resultados del ranking con el dataframe original basado en el equipo local\n",
    "resultados = resultados.merge(ranking_df, left_on='Local', right_on='Equipo', how='left')\n",
    "resultados.rename(columns={'Puntos_Totales': 'Ranking_Local'}, inplace=True)\n",
    "resultados.drop(columns=['Equipo'], inplace=True)\n",
    "\n",
    "# Unir los resultados del ranking con el dataframe original basado en el equipo visitante\n",
    "resultados = resultados.merge(ranking_df, left_on='Visitante', right_on='Equipo', how='left')\n",
    "resultados.rename(columns={'Puntos_Totales': 'Ranking_Visitante'}, inplace=True)\n",
    "resultados.drop(columns=['Equipo'], inplace=True)\n"
   ]
  },
  {
   "cell_type": "code",
   "execution_count": 43,
   "metadata": {},
   "outputs": [],
   "source": [
    "\n",
    "# Ordenar el DataFrame por temporada, jornada y fecha para asegurarnos de que los cálculos son correctos\n",
    "resultados = resultados.sort_values(by=['Temporada', 'Jornada', 'Date']).reset_index(drop=True)\n",
    "\n",
    "# Inicializar las columnas de goles encajados y goles marcados\n",
    "resultados['Goles_Encajados_Local_Acumulados'] = 0\n",
    "resultados['Goles_Encajados_Visitante_Acumulados'] = 0\n",
    "resultados['Goles_Marcados_Local_Acumulados'] = 0\n",
    "resultados['Goles_Marcados_Visitante_Acumulados'] = 0\n",
    "\n",
    "# Calcular los goles encajados y marcados por el equipo local hasta la jornada actual (sin incluir la jornada actual)\n",
    "for temporada in resultados['Temporada'].unique():\n",
    "    for equipo in resultados['Local'].unique():\n",
    "        mask_local = (resultados['Temporada'] == temporada) & (resultados['Local'] == equipo)\n",
    "        resultados.loc[mask_local, 'Goles_Encajados_Local_Acumulados'] = resultados.loc[mask_local, 'Goles_Visitantes'].shift().cumsum().fillna(0)\n",
    "        resultados.loc[mask_local, 'Goles_Marcados_Local_Acumulados'] = resultados.loc[mask_local, 'Goles_Local'].shift().cumsum().fillna(0)\n",
    "\n",
    "# Calcular los goles encajados y marcados por el equipo visitante hasta la jornada actual (sin incluir la jornada actual)\n",
    "for temporada in resultados['Temporada'].unique():\n",
    "    for equipo in resultados['Visitante'].unique():\n",
    "        mask_visitante = (resultados['Temporada'] == temporada) & (resultados['Visitante'] == equipo)\n",
    "        resultados.loc[mask_visitante, 'Goles_Encajados_Visitante_Acumulados'] = resultados.loc[mask_visitante, 'Goles_Local'].shift().cumsum().fillna(0)\n",
    "        resultados.loc[mask_visitante, 'Goles_Marcados_Visitante_Acumulados'] = resultados.loc[mask_visitante, 'Goles_Visitantes'].shift().cumsum().fillna(0)\n",
    "\n"
   ]
  },
  {
   "cell_type": "code",
   "execution_count": 44,
   "metadata": {},
   "outputs": [],
   "source": [
    "resultados['Diferencia_Posicion'] = resultados['Posicion_Local'] - resultados['Posicion_Visitante']"
   ]
  },
  {
   "cell_type": "code",
   "execution_count": 45,
   "metadata": {},
   "outputs": [
    {
     "name": "stderr",
     "output_type": "stream",
     "text": [
      "C:\\Users\\raul_\\AppData\\Local\\Temp\\ipykernel_22056\\1116965769.py:18: FutureWarning: Setting an item of incompatible dtype is deprecated and will raise an error in a future version of pandas. Value '[0.         0.         0.         0.75       2.6        2.66666667\n",
      " 2.28571429 2.5        2.66666667 2.8        3.09090909 3.16666667\n",
      " 3.15384615 2.92857143]' has dtype incompatible with int64, please explicitly cast to a compatible dtype first.\n",
      "  resultados.loc[resultados['Local'] == team, 'Rendimiento_Casa_Local'] = local_points.expanding().mean()\n",
      "C:\\Users\\raul_\\AppData\\Local\\Temp\\ipykernel_22056\\1116965769.py:22: FutureWarning: Setting an item of incompatible dtype is deprecated and will raise an error in a future version of pandas. Value '[0.         3.5        4.         3.25       2.6        2.16666667\n",
      " 2.28571429 2.125      2.66666667 2.8        2.81818182 3.41666667\n",
      " 3.15384615]' has dtype incompatible with int64, please explicitly cast to a compatible dtype first.\n",
      "  resultados.loc[resultados['Visitante'] == team, 'Rendimiento_Fuera_Visitante'] = visitante_points.expanding().mean()\n",
      "C:\\Users\\raul_\\AppData\\Local\\Temp\\ipykernel_22056\\1116965769.py:25: FutureWarning: Setting an item of incompatible dtype is deprecated and will raise an error in a future version of pandas. Value '[0.         0.         0.         1.         4.33333333 5.33333333\n",
      " 4.33333333 2.33333333 2.66666667 4.         4.66666667 4.66666667\n",
      " 4.33333333 2.33333333]' has dtype incompatible with int64, please explicitly cast to a compatible dtype first.\n",
      "  resultados.loc[resultados['Local'] == team, 'Forma_Reciente_Local'] = local_points.rolling(window=3).mean().fillna(local_points.expanding().mean())\n",
      "C:\\Users\\raul_\\AppData\\Local\\Temp\\ipykernel_22056\\1116965769.py:28: FutureWarning: Setting an item of incompatible dtype is deprecated and will raise an error in a future version of pandas. Value '[0.         3.5        4.         4.33333333 2.         0.33333333\n",
      " 1.         1.33333333 3.66666667 4.         4.66666667 5.66666667\n",
      " 4.33333333]' has dtype incompatible with int64, please explicitly cast to a compatible dtype first.\n",
      "  resultados.loc[resultados['Visitante'] == team, 'Forma_Reciente_Visitante'] = visitante_points.rolling(window=3).mean().fillna(visitante_points.expanding().mean())\n"
     ]
    }
   ],
   "source": [
    "\n",
    "# Inicializar columnas de rendimiento y forma reciente\n",
    "resultados['Rendimiento_Casa_Local'] = 0\n",
    "resultados['Rendimiento_Fuera_Visitante'] = 0\n",
    "resultados['Forma_Reciente_Local'] = 0\n",
    "resultados['Forma_Reciente_Visitante'] = 0\n",
    "\n",
    "# Calcular rendimiento y forma reciente para cada equipo\n",
    "teams = resultados['Local'].unique()\n",
    "\n",
    "# Promedios acumulados y formas recientes\n",
    "for team in teams:\n",
    "    # Datos del equipo local y visitante\n",
    "    local_games = resultados[resultados['Local'] == team]\n",
    "    visitante_games = resultados[resultados['Visitante'] == team]\n",
    "    \n",
    "    # Rendimiento en casa\n",
    "    local_points = local_games['Puntos_Acumulados_Local'].diff().fillna(local_games['Puntos_Acumulados_Local'])\n",
    "    resultados.loc[resultados['Local'] == team, 'Rendimiento_Casa_Local'] = local_points.expanding().mean()\n",
    "    \n",
    "    # Rendimiento fuera\n",
    "    visitante_points = visitante_games['Puntos_Acumulados_Visitantes'].diff().fillna(visitante_games['Puntos_Acumulados_Visitantes'])\n",
    "    resultados.loc[resultados['Visitante'] == team, 'Rendimiento_Fuera_Visitante'] = visitante_points.expanding().mean()\n",
    "    \n",
    "    # Forma reciente en casa\n",
    "    resultados.loc[resultados['Local'] == team, 'Forma_Reciente_Local'] = local_points.rolling(window=3).mean().fillna(local_points.expanding().mean())\n",
    "    \n",
    "    # Forma reciente fuera\n",
    "    resultados.loc[resultados['Visitante'] == team, 'Forma_Reciente_Visitante'] = visitante_points.rolling(window=3).mean().fillna(visitante_points.expanding().mean())\n",
    "\n"
   ]
  },
  {
   "cell_type": "code",
   "execution_count": null,
   "metadata": {},
   "outputs": [],
   "source": [
    "\n",
    "# Revisar los partidos para saber si el equipo local o visitante recibieron goles basándose en las columnas Goles_Local y Goles_Visitante\n",
    "resultados['Local_Porteria_Cero'] = resultados['Goles_Visitantes'] == 0\n",
    "resultados['Visitante_Porteria_Cero'] = resultados['Goles_Local'] == 0\n",
    "\n",
    "# Crear columnas acumulativas para porterías a 0 por temporada\n",
    "resultados['Porterias_Cero_Local_Acum'] = resultados.groupby('Temporada')['Local_Porteria_Cero'].cumsum()\n",
    "resultados['Porterias_Cero_Visitante_Acum'] = resultados.groupby('Temporada')['Visitante_Porteria_Cero'].cumsum()\n"
   ]
  },
  {
   "cell_type": "code",
   "execution_count": 46,
   "metadata": {},
   "outputs": [
    {
     "ename": "KeyError",
     "evalue": "\"['Local_Porteria_Cero', 'Visitante_Porteria_Cero'] not found in axis\"",
     "output_type": "error",
     "traceback": [
      "\u001b[1;31m---------------------------------------------------------------------------\u001b[0m",
      "\u001b[1;31mKeyError\u001b[0m                                  Traceback (most recent call last)",
      "Cell \u001b[1;32mIn[46], line 1\u001b[0m\n\u001b[1;32m----> 1\u001b[0m \u001b[43mresultados\u001b[49m\u001b[38;5;241;43m.\u001b[39;49m\u001b[43mdrop\u001b[49m\u001b[43m(\u001b[49m\u001b[43mcolumns\u001b[49m\u001b[38;5;241;43m=\u001b[39;49m\u001b[43m[\u001b[49m\u001b[38;5;124;43m\"\u001b[39;49m\u001b[38;5;124;43mResultado_Local\u001b[39;49m\u001b[38;5;124;43m\"\u001b[39;49m\u001b[43m,\u001b[49m\u001b[38;5;124;43m\"\u001b[39;49m\u001b[38;5;124;43mResultado_Visitante\u001b[39;49m\u001b[38;5;124;43m\"\u001b[39;49m\u001b[43m,\u001b[49m\u001b[38;5;124;43m\"\u001b[39;49m\u001b[38;5;124;43mGoles_Visitantes\u001b[39;49m\u001b[38;5;124;43m\"\u001b[39;49m\u001b[43m,\u001b[49m\u001b[38;5;124;43m\"\u001b[39;49m\u001b[38;5;124;43mGoles_Local\u001b[39;49m\u001b[38;5;124;43m\"\u001b[39;49m\u001b[43m,\u001b[49m\u001b[38;5;124;43m\"\u001b[39;49m\u001b[38;5;124;43mNumero_Goles_Total\u001b[39;49m\u001b[38;5;124;43m\"\u001b[39;49m\u001b[43m,\u001b[49m\u001b[38;5;124;43m\"\u001b[39;49m\u001b[38;5;124;43mMatch_ID\u001b[39;49m\u001b[38;5;124;43m\"\u001b[39;49m\u001b[43m,\u001b[49m\u001b[38;5;124;43m\"\u001b[39;49m\u001b[38;5;124;43mLocal_Porteria_Cero\u001b[39;49m\u001b[38;5;124;43m\"\u001b[39;49m\u001b[43m,\u001b[49m\u001b[38;5;124;43m\"\u001b[39;49m\u001b[38;5;124;43mVisitante_Porteria_Cero\u001b[39;49m\u001b[38;5;124;43m\"\u001b[39;49m\u001b[43m,\u001b[49m\u001b[38;5;124;43m\"\u001b[39;49m\u001b[38;5;124;43mDate\u001b[39;49m\u001b[38;5;124;43m\"\u001b[39;49m\u001b[43m]\u001b[49m\u001b[43m,\u001b[49m\u001b[43minplace\u001b[49m\u001b[38;5;241;43m=\u001b[39;49m\u001b[38;5;28;43;01mTrue\u001b[39;49;00m\u001b[43m)\u001b[49m\n",
      "File \u001b[1;32mc:\\Users\\raul_\\AppData\\Local\\Programs\\Python\\Python312\\Lib\\site-packages\\pandas\\core\\frame.py:5568\u001b[0m, in \u001b[0;36mDataFrame.drop\u001b[1;34m(self, labels, axis, index, columns, level, inplace, errors)\u001b[0m\n\u001b[0;32m   5420\u001b[0m \u001b[38;5;28;01mdef\u001b[39;00m \u001b[38;5;21mdrop\u001b[39m(\n\u001b[0;32m   5421\u001b[0m     \u001b[38;5;28mself\u001b[39m,\n\u001b[0;32m   5422\u001b[0m     labels: IndexLabel \u001b[38;5;241m|\u001b[39m \u001b[38;5;28;01mNone\u001b[39;00m \u001b[38;5;241m=\u001b[39m \u001b[38;5;28;01mNone\u001b[39;00m,\n\u001b[1;32m   (...)\u001b[0m\n\u001b[0;32m   5429\u001b[0m     errors: IgnoreRaise \u001b[38;5;241m=\u001b[39m \u001b[38;5;124m\"\u001b[39m\u001b[38;5;124mraise\u001b[39m\u001b[38;5;124m\"\u001b[39m,\n\u001b[0;32m   5430\u001b[0m ) \u001b[38;5;241m-\u001b[39m\u001b[38;5;241m>\u001b[39m DataFrame \u001b[38;5;241m|\u001b[39m \u001b[38;5;28;01mNone\u001b[39;00m:\n\u001b[0;32m   5431\u001b[0m \u001b[38;5;250m    \u001b[39m\u001b[38;5;124;03m\"\"\"\u001b[39;00m\n\u001b[0;32m   5432\u001b[0m \u001b[38;5;124;03m    Drop specified labels from rows or columns.\u001b[39;00m\n\u001b[0;32m   5433\u001b[0m \n\u001b[1;32m   (...)\u001b[0m\n\u001b[0;32m   5566\u001b[0m \u001b[38;5;124;03m            weight  1.0     0.8\u001b[39;00m\n\u001b[0;32m   5567\u001b[0m \u001b[38;5;124;03m    \"\"\"\u001b[39;00m\n\u001b[1;32m-> 5568\u001b[0m     \u001b[38;5;28;01mreturn\u001b[39;00m \u001b[38;5;28;43msuper\u001b[39;49m\u001b[43m(\u001b[49m\u001b[43m)\u001b[49m\u001b[38;5;241;43m.\u001b[39;49m\u001b[43mdrop\u001b[49m\u001b[43m(\u001b[49m\n\u001b[0;32m   5569\u001b[0m \u001b[43m        \u001b[49m\u001b[43mlabels\u001b[49m\u001b[38;5;241;43m=\u001b[39;49m\u001b[43mlabels\u001b[49m\u001b[43m,\u001b[49m\n\u001b[0;32m   5570\u001b[0m \u001b[43m        \u001b[49m\u001b[43maxis\u001b[49m\u001b[38;5;241;43m=\u001b[39;49m\u001b[43maxis\u001b[49m\u001b[43m,\u001b[49m\n\u001b[0;32m   5571\u001b[0m \u001b[43m        \u001b[49m\u001b[43mindex\u001b[49m\u001b[38;5;241;43m=\u001b[39;49m\u001b[43mindex\u001b[49m\u001b[43m,\u001b[49m\n\u001b[0;32m   5572\u001b[0m \u001b[43m        \u001b[49m\u001b[43mcolumns\u001b[49m\u001b[38;5;241;43m=\u001b[39;49m\u001b[43mcolumns\u001b[49m\u001b[43m,\u001b[49m\n\u001b[0;32m   5573\u001b[0m \u001b[43m        \u001b[49m\u001b[43mlevel\u001b[49m\u001b[38;5;241;43m=\u001b[39;49m\u001b[43mlevel\u001b[49m\u001b[43m,\u001b[49m\n\u001b[0;32m   5574\u001b[0m \u001b[43m        \u001b[49m\u001b[43minplace\u001b[49m\u001b[38;5;241;43m=\u001b[39;49m\u001b[43minplace\u001b[49m\u001b[43m,\u001b[49m\n\u001b[0;32m   5575\u001b[0m \u001b[43m        \u001b[49m\u001b[43merrors\u001b[49m\u001b[38;5;241;43m=\u001b[39;49m\u001b[43merrors\u001b[49m\u001b[43m,\u001b[49m\n\u001b[0;32m   5576\u001b[0m \u001b[43m    \u001b[49m\u001b[43m)\u001b[49m\n",
      "File \u001b[1;32mc:\\Users\\raul_\\AppData\\Local\\Programs\\Python\\Python312\\Lib\\site-packages\\pandas\\core\\generic.py:4785\u001b[0m, in \u001b[0;36mNDFrame.drop\u001b[1;34m(self, labels, axis, index, columns, level, inplace, errors)\u001b[0m\n\u001b[0;32m   4783\u001b[0m \u001b[38;5;28;01mfor\u001b[39;00m axis, labels \u001b[38;5;129;01min\u001b[39;00m axes\u001b[38;5;241m.\u001b[39mitems():\n\u001b[0;32m   4784\u001b[0m     \u001b[38;5;28;01mif\u001b[39;00m labels \u001b[38;5;129;01mis\u001b[39;00m \u001b[38;5;129;01mnot\u001b[39;00m \u001b[38;5;28;01mNone\u001b[39;00m:\n\u001b[1;32m-> 4785\u001b[0m         obj \u001b[38;5;241m=\u001b[39m \u001b[43mobj\u001b[49m\u001b[38;5;241;43m.\u001b[39;49m\u001b[43m_drop_axis\u001b[49m\u001b[43m(\u001b[49m\u001b[43mlabels\u001b[49m\u001b[43m,\u001b[49m\u001b[43m \u001b[49m\u001b[43maxis\u001b[49m\u001b[43m,\u001b[49m\u001b[43m \u001b[49m\u001b[43mlevel\u001b[49m\u001b[38;5;241;43m=\u001b[39;49m\u001b[43mlevel\u001b[49m\u001b[43m,\u001b[49m\u001b[43m \u001b[49m\u001b[43merrors\u001b[49m\u001b[38;5;241;43m=\u001b[39;49m\u001b[43merrors\u001b[49m\u001b[43m)\u001b[49m\n\u001b[0;32m   4787\u001b[0m \u001b[38;5;28;01mif\u001b[39;00m inplace:\n\u001b[0;32m   4788\u001b[0m     \u001b[38;5;28mself\u001b[39m\u001b[38;5;241m.\u001b[39m_update_inplace(obj)\n",
      "File \u001b[1;32mc:\\Users\\raul_\\AppData\\Local\\Programs\\Python\\Python312\\Lib\\site-packages\\pandas\\core\\generic.py:4827\u001b[0m, in \u001b[0;36mNDFrame._drop_axis\u001b[1;34m(self, labels, axis, level, errors, only_slice)\u001b[0m\n\u001b[0;32m   4825\u001b[0m         new_axis \u001b[38;5;241m=\u001b[39m axis\u001b[38;5;241m.\u001b[39mdrop(labels, level\u001b[38;5;241m=\u001b[39mlevel, errors\u001b[38;5;241m=\u001b[39merrors)\n\u001b[0;32m   4826\u001b[0m     \u001b[38;5;28;01melse\u001b[39;00m:\n\u001b[1;32m-> 4827\u001b[0m         new_axis \u001b[38;5;241m=\u001b[39m \u001b[43maxis\u001b[49m\u001b[38;5;241;43m.\u001b[39;49m\u001b[43mdrop\u001b[49m\u001b[43m(\u001b[49m\u001b[43mlabels\u001b[49m\u001b[43m,\u001b[49m\u001b[43m \u001b[49m\u001b[43merrors\u001b[49m\u001b[38;5;241;43m=\u001b[39;49m\u001b[43merrors\u001b[49m\u001b[43m)\u001b[49m\n\u001b[0;32m   4828\u001b[0m     indexer \u001b[38;5;241m=\u001b[39m axis\u001b[38;5;241m.\u001b[39mget_indexer(new_axis)\n\u001b[0;32m   4830\u001b[0m \u001b[38;5;66;03m# Case for non-unique axis\u001b[39;00m\n\u001b[0;32m   4831\u001b[0m \u001b[38;5;28;01melse\u001b[39;00m:\n",
      "File \u001b[1;32mc:\\Users\\raul_\\AppData\\Local\\Programs\\Python\\Python312\\Lib\\site-packages\\pandas\\core\\indexes\\base.py:7070\u001b[0m, in \u001b[0;36mIndex.drop\u001b[1;34m(self, labels, errors)\u001b[0m\n\u001b[0;32m   7068\u001b[0m \u001b[38;5;28;01mif\u001b[39;00m mask\u001b[38;5;241m.\u001b[39many():\n\u001b[0;32m   7069\u001b[0m     \u001b[38;5;28;01mif\u001b[39;00m errors \u001b[38;5;241m!=\u001b[39m \u001b[38;5;124m\"\u001b[39m\u001b[38;5;124mignore\u001b[39m\u001b[38;5;124m\"\u001b[39m:\n\u001b[1;32m-> 7070\u001b[0m         \u001b[38;5;28;01mraise\u001b[39;00m \u001b[38;5;167;01mKeyError\u001b[39;00m(\u001b[38;5;124mf\u001b[39m\u001b[38;5;124m\"\u001b[39m\u001b[38;5;132;01m{\u001b[39;00mlabels[mask]\u001b[38;5;241m.\u001b[39mtolist()\u001b[38;5;132;01m}\u001b[39;00m\u001b[38;5;124m not found in axis\u001b[39m\u001b[38;5;124m\"\u001b[39m)\n\u001b[0;32m   7071\u001b[0m     indexer \u001b[38;5;241m=\u001b[39m indexer[\u001b[38;5;241m~\u001b[39mmask]\n\u001b[0;32m   7072\u001b[0m \u001b[38;5;28;01mreturn\u001b[39;00m \u001b[38;5;28mself\u001b[39m\u001b[38;5;241m.\u001b[39mdelete(indexer)\n",
      "\u001b[1;31mKeyError\u001b[0m: \"['Local_Porteria_Cero', 'Visitante_Porteria_Cero'] not found in axis\""
     ]
    }
   ],
   "source": [
    "resultados.drop(columns=[\"Resultado_Local\",\"Resultado_Visitante\",\"Goles_Visitantes\",\"Goles_Local\",\"Numero_Goles_Total\",\"Match_ID\",\"Local_Porteria_Cero\",\"Visitante_Porteria_Cero\",\"Date\"],inplace=True)"
   ]
  },
  {
   "cell_type": "code",
   "execution_count": null,
   "metadata": {},
   "outputs": [],
   "source": [
    "categorical_columns = resultados.select_dtypes(include=['object']).columns\n",
    "\n",
    "\n",
    "encoded = resultados.copy()\n",
    "\n",
    "\n",
    "label_encoder = LabelEncoder()\n",
    "\n",
    "\n",
    "for column in categorical_columns:\n",
    "   encoded[column] = label_encoder.fit_transform(encoded[column])"
   ]
  },
  {
   "cell_type": "code",
   "execution_count": null,
   "metadata": {},
   "outputs": [],
   "source": [
    "\n",
    "encoded[\"Diferencia_Puntos_Local\"]= encoded[\"Puntos_Acumulados_Local\"] - encoded[\"Puntos_Acumulados_Visitantes\"] #Diferencia de puntos Local\n",
    "encoded[\"Diferencia_Puntos_Visitante\"]= encoded[\"Puntos_Acumulados_Visitantes\"] - encoded[\"Puntos_Acumulados_Local\"] #Diferencia de puntos Visitante\n",
    "\n",
    "encoded[\"Ratio_Goles_por_partido_Visitante\"]= encoded[\"Goles_Acumulados_Visitantes\"] / encoded[\"Jornada\"] #Media de goles Visitante por partido\n",
    "encoded[\"Ratio_Goles_por_partido_Local\"]= encoded[\"Goles_Acumulados_Local\"] / encoded[\"Jornada\"] #Media de goles Local por partido\n",
    "\n",
    "encoded[\"Rendimiento_Ranking_Visitante\"]= (encoded[\"Ranking_Visitante\"] * encoded[\"Ratio_Jornada_Visitante\"]) \n",
    "encoded[\"Rendimiento_Ranking_Local\"]= (encoded[\"Ranking_Local\"] * encoded[\"Ratio_Jornada_Local\"]) \n"
   ]
  },
  {
   "cell_type": "code",
   "execution_count": null,
   "metadata": {},
   "outputs": [],
   "source": [
    "encoded['Diferencia_Ranking'] = encoded['Ranking_Local'] - encoded['Ranking_Visitante']\n",
    "\n",
    "# Crear nuevas columnas basadas en indicadores binarios mejorados\n",
    "encoded['Local_Es_Favorito'] = (encoded['Ranking_Local'] < encoded['Ranking_Visitante']).astype(int)\n",
    "encoded['Visitante_Es_Favorito'] = (encoded['Ranking_Visitante'] < encoded['Ranking_Local']).astype(int)"
   ]
  },
  {
   "cell_type": "code",
   "execution_count": null,
   "metadata": {},
   "outputs": [],
   "source": [
    "\n",
    "# Crear nuevas columnas basadas en interacciones cuadráticas y no lineales\n",
    "encoded['Ranking_Local_Cuadrado'] = encoded['Ranking_Local'] ** 2\n",
    "encoded['Ranking_Visitante_Cuadrado'] = encoded['Ranking_Visitante'] ** 2\n",
    "\n",
    "encoded['Rendimiento_Vistante'] = encoded['Ratio_Goles_por_partido_Visitante'] / encoded['Posicion_Visitante']\n",
    "encoded['Rendimiento_Local'] = encoded['Ratio_Goles_por_partido_Local'] / encoded['Posicion_Local']\n",
    "\n",
    "\n",
    "encoded['Local_Es_Ofensivo'] = (encoded['Media_Goles_Local'] < encoded['Media_Goles_Visitante']).astype(int)\n",
    "encoded['Visitante_Es_Ofensivo'] = (encoded['Media_Goles_Visitante'] < encoded['Media_Goles_Local']).astype(int)\n",
    "\n",
    "\n",
    "encoded['Local_Es_Defensivo'] = (encoded['Goles_Encajados_Local_Acumulados'] < encoded['Goles_Encajados_Visitante_Acumulados']).astype(int)\n",
    "encoded['Visitante_Es_Defensivo'] = (encoded['Goles_Encajados_Visitante_Acumulados'] < encoded['Goles_Encajados_Local_Acumulados']).astype(int)"
   ]
  },
  {
   "cell_type": "code",
   "execution_count": null,
   "metadata": {},
   "outputs": [],
   "source": [
    "encoded.drop(columns=[\"Resultado\"], inplace=True)"
   ]
  },
  {
   "cell_type": "code",
   "execution_count": null,
   "metadata": {},
   "outputs": [],
   "source": [
    "encoded = encoded.dropna(axis=1, how='any')"
   ]
  },
  {
   "cell_type": "code",
   "execution_count": null,
   "metadata": {},
   "outputs": [],
   "source": [
    "#Exportamos en CSV\n",
    "encoded.to_csv(\"TEST_PRUEBAS_2.csv\", index=False)"
   ]
  },
  {
   "cell_type": "code",
   "execution_count": null,
   "metadata": {},
   "outputs": [
    {
     "data": {
      "text/html": [
       "<div>\n",
       "<style scoped>\n",
       "    .dataframe tbody tr th:only-of-type {\n",
       "        vertical-align: middle;\n",
       "    }\n",
       "\n",
       "    .dataframe tbody tr th {\n",
       "        vertical-align: top;\n",
       "    }\n",
       "\n",
       "    .dataframe thead th {\n",
       "        text-align: right;\n",
       "    }\n",
       "</style>\n",
       "<table border=\"1\" class=\"dataframe\">\n",
       "  <thead>\n",
       "    <tr style=\"text-align: right;\">\n",
       "      <th></th>\n",
       "      <th>Temporada</th>\n",
       "      <th>Jornada</th>\n",
       "      <th>Posicion_Local</th>\n",
       "      <th>Puntos_Acumulados_Local</th>\n",
       "      <th>Local</th>\n",
       "      <th>Goles_Acumulados_Local</th>\n",
       "      <th>Visitante</th>\n",
       "      <th>Goles_Acumulados_Visitantes</th>\n",
       "      <th>Puntos_Acumulados_Visitantes</th>\n",
       "      <th>Posicion_Visitante</th>\n",
       "      <th>...</th>\n",
       "      <th>Local_Es_Favorito</th>\n",
       "      <th>Visitante_Es_Favorito</th>\n",
       "      <th>Ranking_Local_Cuadrado</th>\n",
       "      <th>Ranking_Visitante_Cuadrado</th>\n",
       "      <th>Rendimiento_Vistante</th>\n",
       "      <th>Rendimiento_Local</th>\n",
       "      <th>Local_Es_Ofensivo</th>\n",
       "      <th>Visitante_Es_Ofensivo</th>\n",
       "      <th>Local_Es_Defensivo</th>\n",
       "      <th>Visitante_Es_Defensivo</th>\n",
       "    </tr>\n",
       "  </thead>\n",
       "  <tbody>\n",
       "    <tr>\n",
       "      <th>0</th>\n",
       "      <td>2023</td>\n",
       "      <td>1</td>\n",
       "      <td>4</td>\n",
       "      <td>0.0</td>\n",
       "      <td>17</td>\n",
       "      <td>0.0</td>\n",
       "      <td>18</td>\n",
       "      <td>0.0</td>\n",
       "      <td>0.0</td>\n",
       "      <td>3</td>\n",
       "      <td>...</td>\n",
       "      <td>0</td>\n",
       "      <td>1</td>\n",
       "      <td>64</td>\n",
       "      <td>49</td>\n",
       "      <td>0.0</td>\n",
       "      <td>0.0</td>\n",
       "      <td>0</td>\n",
       "      <td>0</td>\n",
       "      <td>0</td>\n",
       "      <td>0</td>\n",
       "    </tr>\n",
       "    <tr>\n",
       "      <th>1</th>\n",
       "      <td>2023</td>\n",
       "      <td>1</td>\n",
       "      <td>2</td>\n",
       "      <td>0.0</td>\n",
       "      <td>1</td>\n",
       "      <td>0.0</td>\n",
       "      <td>14</td>\n",
       "      <td>0.0</td>\n",
       "      <td>0.0</td>\n",
       "      <td>7</td>\n",
       "      <td>...</td>\n",
       "      <td>1</td>\n",
       "      <td>0</td>\n",
       "      <td>1</td>\n",
       "      <td>25</td>\n",
       "      <td>0.0</td>\n",
       "      <td>0.0</td>\n",
       "      <td>0</td>\n",
       "      <td>0</td>\n",
       "      <td>0</td>\n",
       "      <td>0</td>\n",
       "    </tr>\n",
       "  </tbody>\n",
       "</table>\n",
       "<p>2 rows × 51 columns</p>\n",
       "</div>"
      ],
      "text/plain": [
       "   Temporada  Jornada  Posicion_Local  Puntos_Acumulados_Local  Local  \\\n",
       "0       2023        1               4                      0.0     17   \n",
       "1       2023        1               2                      0.0      1   \n",
       "\n",
       "   Goles_Acumulados_Local  Visitante  Goles_Acumulados_Visitantes  \\\n",
       "0                     0.0         18                          0.0   \n",
       "1                     0.0         14                          0.0   \n",
       "\n",
       "   Puntos_Acumulados_Visitantes  Posicion_Visitante  ...  Local_Es_Favorito  \\\n",
       "0                           0.0                   3  ...                  0   \n",
       "1                           0.0                   7  ...                  1   \n",
       "\n",
       "   Visitante_Es_Favorito  Ranking_Local_Cuadrado  Ranking_Visitante_Cuadrado  \\\n",
       "0                      1                      64                          49   \n",
       "1                      0                       1                          25   \n",
       "\n",
       "   Rendimiento_Vistante  Rendimiento_Local  Local_Es_Ofensivo  \\\n",
       "0                   0.0                0.0                  0   \n",
       "1                   0.0                0.0                  0   \n",
       "\n",
       "   Visitante_Es_Ofensivo  Local_Es_Defensivo  Visitante_Es_Defensivo  \n",
       "0                      0                   0                       0  \n",
       "1                      0                   0                       0  \n",
       "\n",
       "[2 rows x 51 columns]"
      ]
     },
     "execution_count": 110,
     "metadata": {},
     "output_type": "execute_result"
    }
   ],
   "source": [
    "encoded.head(2)"
   ]
  }
 ],
 "metadata": {
  "kernelspec": {
   "display_name": "Python 3",
   "language": "python",
   "name": "python3"
  },
  "language_info": {
   "codemirror_mode": {
    "name": "ipython",
    "version": 3
   },
   "file_extension": ".py",
   "mimetype": "text/x-python",
   "name": "python",
   "nbconvert_exporter": "python",
   "pygments_lexer": "ipython3",
   "version": "3.12.2"
  }
 },
 "nbformat": 4,
 "nbformat_minor": 2
}
